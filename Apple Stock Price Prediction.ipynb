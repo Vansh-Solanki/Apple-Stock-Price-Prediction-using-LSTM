{
 "cells": [
  {
   "cell_type": "code",
   "execution_count": 1,
   "id": "3b5d5997",
   "metadata": {},
   "outputs": [
    {
     "name": "stderr",
     "output_type": "stream",
     "text": [
      "C:\\Users\\Vansh\\anaconda3\\lib\\site-packages\\scipy\\__init__.py:146: UserWarning: A NumPy version >=1.16.5 and <1.23.0 is required for this version of SciPy (detected version 1.23.5\n",
      "  warnings.warn(f\"A NumPy version >={np_minversion} and <{np_maxversion}\"\n"
     ]
    },
    {
     "name": "stdout",
     "output_type": "stream",
     "text": [
      "WARNING:tensorflow:From C:\\Users\\Vansh\\anaconda3\\lib\\site-packages\\keras\\src\\losses.py:2976: The name tf.losses.sparse_softmax_cross_entropy is deprecated. Please use tf.compat.v1.losses.sparse_softmax_cross_entropy instead.\n",
      "\n"
     ]
    }
   ],
   "source": [
    "import math\n",
    "import pandas_datareader as web\n",
    "import numpy as np\n",
    "import pandas as pd\n",
    "from sklearn.preprocessing import MinMaxScaler\n",
    "from keras.models import Sequential\n",
    "from keras.layers import Dense,LSTM\n",
    "import matplotlib.pyplot as plt"
   ]
  },
  {
   "cell_type": "code",
   "execution_count": 19,
   "id": "d8f1900c",
   "metadata": {},
   "outputs": [
    {
     "data": {
      "text/html": [
       "<div>\n",
       "<style scoped>\n",
       "    .dataframe tbody tr th:only-of-type {\n",
       "        vertical-align: middle;\n",
       "    }\n",
       "\n",
       "    .dataframe tbody tr th {\n",
       "        vertical-align: top;\n",
       "    }\n",
       "\n",
       "    .dataframe thead th {\n",
       "        text-align: right;\n",
       "    }\n",
       "</style>\n",
       "<table border=\"1\" class=\"dataframe\">\n",
       "  <thead>\n",
       "    <tr style=\"text-align: right;\">\n",
       "      <th></th>\n",
       "      <th>Date</th>\n",
       "      <th>Open</th>\n",
       "      <th>High</th>\n",
       "      <th>Low</th>\n",
       "      <th>Close</th>\n",
       "      <th>Adj Close</th>\n",
       "      <th>Volume</th>\n",
       "    </tr>\n",
       "  </thead>\n",
       "  <tbody>\n",
       "    <tr>\n",
       "      <th>0</th>\n",
       "      <td>2010-11-22</td>\n",
       "      <td>10.952857</td>\n",
       "      <td>11.191429</td>\n",
       "      <td>10.923929</td>\n",
       "      <td>11.191429</td>\n",
       "      <td>9.486750</td>\n",
       "      <td>393075200</td>\n",
       "    </tr>\n",
       "    <tr>\n",
       "      <th>1</th>\n",
       "      <td>2010-11-23</td>\n",
       "      <td>11.087500</td>\n",
       "      <td>11.133929</td>\n",
       "      <td>10.948571</td>\n",
       "      <td>11.026071</td>\n",
       "      <td>9.346576</td>\n",
       "      <td>519447600</td>\n",
       "    </tr>\n",
       "    <tr>\n",
       "      <th>2</th>\n",
       "      <td>2010-11-24</td>\n",
       "      <td>11.142857</td>\n",
       "      <td>11.264286</td>\n",
       "      <td>11.133929</td>\n",
       "      <td>11.242857</td>\n",
       "      <td>9.530339</td>\n",
       "      <td>413725200</td>\n",
       "    </tr>\n",
       "    <tr>\n",
       "      <th>3</th>\n",
       "      <td>2010-11-26</td>\n",
       "      <td>11.205000</td>\n",
       "      <td>11.346429</td>\n",
       "      <td>11.176429</td>\n",
       "      <td>11.250000</td>\n",
       "      <td>9.536398</td>\n",
       "      <td>237585600</td>\n",
       "    </tr>\n",
       "    <tr>\n",
       "      <th>4</th>\n",
       "      <td>2010-11-29</td>\n",
       "      <td>11.267857</td>\n",
       "      <td>11.338571</td>\n",
       "      <td>11.120714</td>\n",
       "      <td>11.316786</td>\n",
       "      <td>9.593010</td>\n",
       "      <td>445785200</td>\n",
       "    </tr>\n",
       "    <tr>\n",
       "      <th>...</th>\n",
       "      <td>...</td>\n",
       "      <td>...</td>\n",
       "      <td>...</td>\n",
       "      <td>...</td>\n",
       "      <td>...</td>\n",
       "      <td>...</td>\n",
       "      <td>...</td>\n",
       "    </tr>\n",
       "    <tr>\n",
       "      <th>3267</th>\n",
       "      <td>2023-11-15</td>\n",
       "      <td>187.850006</td>\n",
       "      <td>189.500000</td>\n",
       "      <td>187.779999</td>\n",
       "      <td>188.009995</td>\n",
       "      <td>188.009995</td>\n",
       "      <td>53790500</td>\n",
       "    </tr>\n",
       "    <tr>\n",
       "      <th>3268</th>\n",
       "      <td>2023-11-16</td>\n",
       "      <td>189.570007</td>\n",
       "      <td>190.960007</td>\n",
       "      <td>188.649994</td>\n",
       "      <td>189.710007</td>\n",
       "      <td>189.710007</td>\n",
       "      <td>54412900</td>\n",
       "    </tr>\n",
       "    <tr>\n",
       "      <th>3269</th>\n",
       "      <td>2023-11-17</td>\n",
       "      <td>190.250000</td>\n",
       "      <td>190.380005</td>\n",
       "      <td>188.570007</td>\n",
       "      <td>189.690002</td>\n",
       "      <td>189.690002</td>\n",
       "      <td>50922700</td>\n",
       "    </tr>\n",
       "    <tr>\n",
       "      <th>3270</th>\n",
       "      <td>2023-11-20</td>\n",
       "      <td>189.889999</td>\n",
       "      <td>191.910004</td>\n",
       "      <td>189.880005</td>\n",
       "      <td>191.449997</td>\n",
       "      <td>191.449997</td>\n",
       "      <td>46505100</td>\n",
       "    </tr>\n",
       "    <tr>\n",
       "      <th>3271</th>\n",
       "      <td>2023-11-21</td>\n",
       "      <td>191.410004</td>\n",
       "      <td>191.520004</td>\n",
       "      <td>189.740005</td>\n",
       "      <td>190.639999</td>\n",
       "      <td>190.639999</td>\n",
       "      <td>38082700</td>\n",
       "    </tr>\n",
       "  </tbody>\n",
       "</table>\n",
       "<p>3272 rows × 7 columns</p>\n",
       "</div>"
      ],
      "text/plain": [
       "            Date        Open        High         Low       Close   Adj Close  \\\n",
       "0     2010-11-22   10.952857   11.191429   10.923929   11.191429    9.486750   \n",
       "1     2010-11-23   11.087500   11.133929   10.948571   11.026071    9.346576   \n",
       "2     2010-11-24   11.142857   11.264286   11.133929   11.242857    9.530339   \n",
       "3     2010-11-26   11.205000   11.346429   11.176429   11.250000    9.536398   \n",
       "4     2010-11-29   11.267857   11.338571   11.120714   11.316786    9.593010   \n",
       "...          ...         ...         ...         ...         ...         ...   \n",
       "3267  2023-11-15  187.850006  189.500000  187.779999  188.009995  188.009995   \n",
       "3268  2023-11-16  189.570007  190.960007  188.649994  189.710007  189.710007   \n",
       "3269  2023-11-17  190.250000  190.380005  188.570007  189.690002  189.690002   \n",
       "3270  2023-11-20  189.889999  191.910004  189.880005  191.449997  191.449997   \n",
       "3271  2023-11-21  191.410004  191.520004  189.740005  190.639999  190.639999   \n",
       "\n",
       "         Volume  \n",
       "0     393075200  \n",
       "1     519447600  \n",
       "2     413725200  \n",
       "3     237585600  \n",
       "4     445785200  \n",
       "...         ...  \n",
       "3267   53790500  \n",
       "3268   54412900  \n",
       "3269   50922700  \n",
       "3270   46505100  \n",
       "3271   38082700  \n",
       "\n",
       "[3272 rows x 7 columns]"
      ]
     },
     "execution_count": 19,
     "metadata": {},
     "output_type": "execute_result"
    }
   ],
   "source": [
    "df=pd.read_csv(r\"C:\\Users\\Vansh\\AAPL.csv\")\n",
    "df"
   ]
  },
  {
   "cell_type": "code",
   "execution_count": 3,
   "id": "56047309",
   "metadata": {
    "scrolled": true
   },
   "outputs": [
    {
     "data": {
      "image/png": "[encoded data removed]",
      "text/plain": [
       "<Figure size 1152x576 with 1 Axes>"
      ]
     },
     "metadata": {
      "needs_background": "light"
     },
     "output_type": "display_data"
    }
   ],
   "source": [
    "plt.figure(figsize=(16,8))\n",
    "plt.title('Close Price History')\n",
    "plt.plot(df['Close'])\n",
    "plt.xlabel('Date',fontsize=18)\n",
    "plt.ylabel('Close Price USD($)',fontsize=18)\n",
    "plt.show()"
   ]
  },
  {
   "cell_type": "code",
   "execution_count": 23,
   "id": "22b7405a",
   "metadata": {},
   "outputs": [
    {
     "data": {
      "text/plain": [
       "2618"
      ]
     },
     "execution_count": 23,
     "metadata": {},
     "output_type": "execute_result"
    }
   ],
   "source": [
    "data=df.filter(['Close'])\n",
    "dataset=data.values\n",
    "training_dataset_len=math.ceil(len(dataset)* .8 )\n",
    "training_dataset_len"
   ]
  },
  {
   "cell_type": "code",
   "execution_count": 24,
   "id": "a1503822",
   "metadata": {},
   "outputs": [
    {
     "data": {
      "text/plain": [
       "array([[8.91783512e-04],\n",
       "       [0.00000000e+00],\n",
       "       [1.16913715e-03],\n",
       "       ...,\n",
       "       [9.63543027e-01],\n",
       "       [9.73034764e-01],\n",
       "       [9.68666406e-01]])"
      ]
     },
     "execution_count": 24,
     "metadata": {},
     "output_type": "execute_result"
    }
   ],
   "source": [
    "scaler=MinMaxScaler(feature_range=(0,1))\n",
    "scaled_data=scaler.fit_transform(dataset)\n",
    "scaled_data"
   ]
  },
  {
   "cell_type": "code",
   "execution_count": 30,
   "id": "8544df6e",
   "metadata": {},
   "outputs": [
    {
     "name": "stdout",
     "output_type": "stream",
     "text": [
      "[array([0.00089178, 0.        , 0.00116914, 0.00120766, 0.00156784,\n",
      "       0.00046612, 0.00147731, 0.00181438, 0.00167763, 0.0021996 ,\n",
      "       0.00182593, 0.00236524, 0.00212448, 0.00227856, 0.00249236,\n",
      "       0.00222656, 0.00224005, 0.00241146, 0.00228819, 0.00259637,\n",
      "       0.00297966, 0.00316456, 0.0028641 , 0.00307211, 0.00322428,\n",
      "       0.0031896 , 0.00287565, 0.00266378, 0.00401397, 0.00434526,\n",
      "       0.00486723, 0.00481523, 0.00527556, 0.00649477, 0.00633876,\n",
      "       0.00687421, 0.0071169 , 0.0076562 , 0.00614807, 0.00579946,\n",
      "       0.00461299, 0.00346503, 0.00553173, 0.00629253, 0.00676442,\n",
      "       0.00664115, 0.0052717 , 0.0058919 , 0.0069917 , 0.00685495,\n",
      "       0.00668545, 0.00727484, 0.00831107, 0.00895053, 0.00952066,\n",
      "       0.00882341, 0.00926834, 0.00971712, 0.00985579, 0.01047793])]\n",
      "[0.009547624398806014]\n",
      "\n"
     ]
    }
   ],
   "source": [
    "train_data=scaled_data[0:training_dataset_len,:]\n",
    "x_train=[]\n",
    "y_train=[]\n",
    "\n",
    "for i in range(60,len(train_data)):\n",
    "    x_train.append(train_data[i-60:i,0])\n",
    "    y_train.append(train_data[i,0])\n",
    "    if i<=60:\n",
    "        print(x_train)\n",
    "        print(y_train)\n",
    "        print()"
   ]
  },
  {
   "cell_type": "code",
   "execution_count": 43,
   "id": "6e68d83d",
   "metadata": {},
   "outputs": [],
   "source": [
    "x_train,y_train=np.array(x_train),np.array(y_train)\n",
    "x_train=np.reshape(x_train,(x_train.shape[0],x_train.shape[1],1))"
   ]
  },
  {
   "cell_type": "code",
   "execution_count": 45,
   "id": "28fe6955",
   "metadata": {},
   "outputs": [],
   "source": [
    "model=Sequential()\n",
    "model.add(LSTM(50,return_sequences=True,input_shape=(x_train.shape[1],1 )))\n",
    "model.add(LSTM(50,return_sequences=False))\n",
    "model.add(Dense(25))\n",
    "model.add(Dense(1))"
   ]
  },
  {
   "cell_type": "code",
   "execution_count": 46,
   "id": "a2b0ba35",
   "metadata": {},
   "outputs": [
    {
     "name": "stdout",
     "output_type": "stream",
     "text": [
      "WARNING:tensorflow:From C:\\Users\\Vansh\\anaconda3\\lib\\site-packages\\keras\\src\\optimizers\\__init__.py:309: The name tf.train.Optimizer is deprecated. Please use tf.compat.v1.train.Optimizer instead.\n",
      "\n"
     ]
    }
   ],
   "source": [
    "model.compile(optimizer='adam',loss='mean_squared_error')"
   ]
  },
  {
   "cell_type": "code",
   "execution_count": 47,
   "id": "e7882036",
   "metadata": {},
   "outputs": [
    {
     "name": "stdout",
     "output_type": "stream",
     "text": [
      "Epoch 1/10\n",
      "WARNING:tensorflow:From C:\\Users\\Vansh\\anaconda3\\lib\\site-packages\\keras\\src\\utils\\tf_utils.py:492: The name tf.ragged.RaggedTensorValue is deprecated. Please use tf.compat.v1.ragged.RaggedTensorValue instead.\n",
      "\n",
      "512/512 [==============================] - 21s 31ms/step - loss: 5.3217e-04\n",
      "Epoch 2/10\n",
      "512/512 [==============================] - 13s 26ms/step - loss: 2.5984e-04\n",
      "Epoch 3/10\n",
      "512/512 [==============================] - 14s 28ms/step - loss: 2.3274e-04\n",
      "Epoch 4/10\n",
      "512/512 [==============================] - 13s 26ms/step - loss: 1.4481e-04\n",
      "Epoch 5/10\n",
      "512/512 [==============================] - 13s 25ms/step - loss: 1.7227e-04\n",
      "Epoch 6/10\n",
      "512/512 [==============================] - 14s 27ms/step - loss: 1.1004e-04\n",
      "Epoch 7/10\n",
      "512/512 [==============================] - 13s 25ms/step - loss: 1.0523e-04\n",
      "Epoch 8/10\n",
      "512/512 [==============================] - 14s 26ms/step - loss: 9.5950e-05\n",
      "Epoch 9/10\n",
      "512/512 [==============================] - 14s 27ms/step - loss: 9.2418e-05\n",
      "Epoch 10/10\n",
      "512/512 [==============================] - 14s 27ms/step - loss: 1.1063e-04\n"
     ]
    },
    {
     "data": {
      "text/plain": [
       "<keras.src.callbacks.History at 0x274eb710a90>"
      ]
     },
     "execution_count": 47,
     "metadata": {},
     "output_type": "execute_result"
    }
   ],
   "source": [
    "model.fit(x_train,y_train,batch_size=5,epochs=10)"
   ]
  },
  {
   "cell_type": "code",
   "execution_count": 50,
   "id": "91c3998e",
   "metadata": {},
   "outputs": [],
   "source": [
    "test_data=scaled_data[training_dataset_len-60:,:]\n",
    "x_test=[]\n",
    "y_test=dataset[training_dataset_len:,:]\n",
    "\n",
    "for i in range(60,len(test_data)):\n",
    "    x_test.append(test_data[i-60:i,0])"
   ]
  },
  {
   "cell_type": "code",
   "execution_count": 51,
   "id": "776ad1f6",
   "metadata": {},
   "outputs": [],
   "source": [
    "x_test=np.array(x_test)\n",
    "x_test=np.reshape(x_test,(x_test.shape[0],x_test.shape[1],1))"
   ]
  },
  {
   "cell_type": "code",
   "execution_count": 52,
   "id": "1230a364",
   "metadata": {},
   "outputs": [
    {
     "name": "stdout",
     "output_type": "stream",
     "text": [
      "21/21 [==============================] - 1s 16ms/step\n"
     ]
    }
   ],
   "source": [
    "predictions=model.predict(x_test)\n",
    "predictions=scaler.inverse_transform(predictions)"
   ]
  },
  {
   "cell_type": "code",
   "execution_count": 54,
   "id": "1bed21f7",
   "metadata": {},
   "outputs": [
    {
     "data": {
      "text/plain": [
       "3.670321328673757"
      ]
     },
     "execution_count": 54,
     "metadata": {},
     "output_type": "execute_result"
    }
   ],
   "source": [
    "rmse=np.sqrt(np.mean(predictions-y_test)**2)\n",
    "rmse"
   ]
  },
  {
   "cell_type": "code",
   "execution_count": 59,
   "id": "600f0c71",
   "metadata": {},
   "outputs": [
    {
     "name": "stderr",
     "output_type": "stream",
     "text": [
      "C:\\Users\\Vansh\\AppData\\Local\\Temp/ipykernel_2992/2284676478.py:3: SettingWithCopyWarning: \n",
      "A value is trying to be set on a copy of a slice from a DataFrame.\n",
      "Try using .loc[row_indexer,col_indexer] = value instead\n",
      "\n",
      "See the caveats in the documentation: https://pandas.pydata.org/pandas-docs/stable/user_guide/indexing.html#returning-a-view-versus-a-copy\n",
      "  valid['Predictions']=predictions\n"
     ]
    }
   ],
   "source": [
    "train_data=data[:training_dataset_len]\n",
    "valid=data[training_dataset_len:]\n",
    "valid['Predictions']=predictions"
   ]
  },
  {
   "cell_type": "code",
   "execution_count": 63,
   "id": "93a5128b",
   "metadata": {},
   "outputs": [
    {
     "data": {
      "image/png": "[encoded data removed]",
      "text/plain": [
       "<Figure size 1152x576 with 1 Axes>"
      ]
     },
     "metadata": {
      "needs_background": "light"
     },
     "output_type": "display_data"
    }
   ],
   "source": [
    "plt.figure(figsize=(16,8))\n",
    "plt.title('Model')\n",
    "plt.xlabel('Date',fontsize=18)\n",
    "plt.ylabel('Close Price USD ($)',fontsize=18)\n",
    "plt.plot(train_data['Close'])\n",
    "plt.plot(valid[['Close','Predictions']])\n",
    "plt.legend(['Train','Validation','Predictions'],loc='lower right')\n",
    "plt.show()"
   ]
  },
  {
   "cell_type": "code",
   "execution_count": 64,
   "id": "7fb4dd2e",
   "metadata": {},
   "outputs": [
    {
     "data": {
      "text/html": [
       "<div>\n",
       "<style scoped>\n",
       "    .dataframe tbody tr th:only-of-type {\n",
       "        vertical-align: middle;\n",
       "    }\n",
       "\n",
       "    .dataframe tbody tr th {\n",
       "        vertical-align: top;\n",
       "    }\n",
       "\n",
       "    .dataframe thead th {\n",
       "        text-align: right;\n",
       "    }\n",
       "</style>\n",
       "<table border=\"1\" class=\"dataframe\">\n",
       "  <thead>\n",
       "    <tr style=\"text-align: right;\">\n",
       "      <th></th>\n",
       "      <th>Close</th>\n",
       "      <th>Predictions</th>\n",
       "    </tr>\n",
       "  </thead>\n",
       "  <tbody>\n",
       "    <tr>\n",
       "      <th>2618</th>\n",
       "      <td>133.110001</td>\n",
       "      <td>137.304153</td>\n",
       "    </tr>\n",
       "    <tr>\n",
       "      <th>2619</th>\n",
       "      <td>133.500000</td>\n",
       "      <td>136.503311</td>\n",
       "    </tr>\n",
       "    <tr>\n",
       "      <th>2620</th>\n",
       "      <td>131.940002</td>\n",
       "      <td>136.191895</td>\n",
       "    </tr>\n",
       "    <tr>\n",
       "      <th>2621</th>\n",
       "      <td>134.320007</td>\n",
       "      <td>135.221634</td>\n",
       "    </tr>\n",
       "    <tr>\n",
       "      <th>2622</th>\n",
       "      <td>134.720001</td>\n",
       "      <td>136.190216</td>\n",
       "    </tr>\n",
       "    <tr>\n",
       "      <th>...</th>\n",
       "      <td>...</td>\n",
       "      <td>...</td>\n",
       "    </tr>\n",
       "    <tr>\n",
       "      <th>3267</th>\n",
       "      <td>188.009995</td>\n",
       "      <td>191.049698</td>\n",
       "    </tr>\n",
       "    <tr>\n",
       "      <th>3268</th>\n",
       "      <td>189.710007</td>\n",
       "      <td>192.142441</td>\n",
       "    </tr>\n",
       "    <tr>\n",
       "      <th>3269</th>\n",
       "      <td>189.690002</td>\n",
       "      <td>193.624313</td>\n",
       "    </tr>\n",
       "    <tr>\n",
       "      <th>3270</th>\n",
       "      <td>191.449997</td>\n",
       "      <td>194.130615</td>\n",
       "    </tr>\n",
       "    <tr>\n",
       "      <th>3271</th>\n",
       "      <td>190.639999</td>\n",
       "      <td>195.361115</td>\n",
       "    </tr>\n",
       "  </tbody>\n",
       "</table>\n",
       "<p>654 rows × 2 columns</p>\n",
       "</div>"
      ],
      "text/plain": [
       "           Close  Predictions\n",
       "2618  133.110001   137.304153\n",
       "2619  133.500000   136.503311\n",
       "2620  131.940002   136.191895\n",
       "2621  134.320007   135.221634\n",
       "2622  134.720001   136.190216\n",
       "...          ...          ...\n",
       "3267  188.009995   191.049698\n",
       "3268  189.710007   192.142441\n",
       "3269  189.690002   193.624313\n",
       "3270  191.449997   194.130615\n",
       "3271  190.639999   195.361115\n",
       "\n",
       "[654 rows x 2 columns]"
      ]
     },
     "execution_count": 64,
     "metadata": {},
     "output_type": "execute_result"
    }
   ],
   "source": [
    "valid"
   ]
  },
  {
   "cell_type": "code",
   "execution_count": null,
   "id": "f50dc804",
   "metadata": {},
   "outputs": [],
   "source": [
    "apple_quote"
   ]
  }
 ],
 "metadata": {
  "kernelspec": {
   "display_name": "Python 3 (ipykernel)",
   "language": "python",
   "name": "python3"
  },
  "language_info": {
   "codemirror_mode": {
    "name": "ipython",
    "version": 3
   },
   "file_extension": ".py",
   "mimetype": "text/x-python",
   "name": "python",
   "nbconvert_exporter": "python",
   "pygments_lexer": "ipython3",
   "version": "3.9.7"
  }
 },
 "nbformat": 4,
 "nbformat_minor": 5
}
